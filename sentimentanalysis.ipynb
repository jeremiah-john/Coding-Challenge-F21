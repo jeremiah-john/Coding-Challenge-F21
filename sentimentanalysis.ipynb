{
 "cells": [
  {
   "cell_type": "code",
   "execution_count": 10,
   "metadata": {},
   "outputs": [
    {
     "name": "stdout",
     "output_type": "stream",
     "text": [
      "['\"Stop blushing', \" I'm not needling, really I'm not\", ' Do you know, I\\nhad a dream an hour ago', ' I lay down for a cat-nap and in this dream\\nyou and I, Montag, got into a furious debate on books', ' You towered\\nwith rage, yelled quotes at me', ' I calmly parried every thrust', ' Power, I\\nsaid, And you, quoting Dr', \" Johnson, said `Knowledge is more than\\nequivalent to force!' And I said, `Well, Dr\", ' Johnson also said, dear boy,\\nthat \"He is no wise man that will quit a certainty for an uncertainty', '\\'\"\\nStick with the fireman, Montag', ' All else is dreary chaos!\"\\n\"Don\\'t listen,\" whispered Faber', ' \"He\\'s trying to confuse', \" He's\\nslippery\", ' Watch out!\"\\nBeatty chuckled', ' \"And you said, quoting, `Truth will come to light,\\nmurder will not be hid long!\\' And I cried in good humour, \\'Oh God, he\\nspeaks only of his horse!\\' And `The Devil can cite Scripture for his\\npurpose', \"' And you yelled, 'This age thinks better of a gilded fool, than\\nof a threadbare saint in wisdom's school!' And I whispered gently, 'The\\ndignity of truth is lost with much protesting\", \"' And you screamed,\\n'Carcasses bleed at the sight of the murderer!' And I said, patting your\\nhand, 'What, do I give you trench mouth?' And you shrieked,\\n'Knowledge is power!' and 'A dwarf on a giant's shoulders of the\\nfurthest of the two!' and I summed my side up with rare serenity in,\\n'The folly of mistaking a metaphor for a proof, a torrent of verbiage for\\na spring of capital truths, and oneself as an oracle, is inborn in us, Mr\", '\\nValery once said', '\\'\" \\n\\nI think you may like to know something of his person and character', ' He \\nhad an excellent constitution of body, was of middle stature, but well set, \\nand very strong; he was ingenious, could draw prettily, was skilled a little \\nin music, and had a clear, pleasing voice, so that when he played psalm tunes\\n on his violin and sung withal, as he sometimes did in an evening after \\nthe business of the day was over, it was extremely agreeable to hear', \" He had \\na mechanical genius too, and, on occasion, was very handy in the use of other \\ntradesmen's tools; but his great excellence lay in a sound understanding and \\nsolid judgment in prudential matters, both in private and publick affairs\", ' \\nIn the latter, indeed, he was never employed, the numerous family he had to \\neducate and the straitness of his circumstances keeping him close to his trade; \\nbut I remember well his being frequently visited by leading people, who \\nconsulted him for his opinion in affairs of the town or of the church he \\nbelonged to, and showed a good deal of respect for his judgment and advice: \\nhe was also much consulted by private persons about their affairs when any difficulty \\noccurred, and frequently chosen an arbitrator between contending parties', ' \\nAt his table he liked to have, as often as he could, some sensible friend or \\nneighbor to converse with, and always took care to start some ingenious or useful \\ntopic for discourse, which might tend to improve the minds of his children', \" \\nBy this means he turned our attention to what was good, just, and prudent in \\nthe conduct of life; and little or no notice was ever taken of what related to \\nthe victuals on the table, whether it was well or ill dressed, in or out of season, \\nof good or bad flavor, preferable or inferior to this or that other thing \\nof the kind, so that I was bro't up in such a perfect inattention to those matters \\nas to be quite indifferent what kind of food was set before me, and so unobservant of \\nit, that to this day if I am asked I can scarce tell a few hours after dinner \\nwhat I dined upon\", ' This has been a convenience to me in traveling, where my \\ncompanions have been sometimes very unhappy for want of a suitable gratification \\nof their more delicate, because better instructed, tastes and appetites', '']\n"
     ]
    }
   ],
   "source": [
    "import pandas\r\n",
    "pandas.__version__\r\n",
    "\r\n",
    "data = open(\"input.txt\",\"rt\")\r\n",
    "text = data.read()\r\n",
    "text = text.strip()\r\n",
    "sentences = text.split('.')\r\n",
    "print(sentences)\r\n"
   ]
  }
 ],
 "metadata": {
  "kernelspec": {
   "display_name": "Python 3.8.5 64-bit ('base': conda)",
   "name": "python385jvsc74a57bd061d5e23a55309cb70608ae49be5931992f7f36ab5702d9c2cb47e9f0a503231c"
  },
  "language_info": {
   "codemirror_mode": {
    "name": "ipython",
    "version": 3
   },
   "file_extension": ".py",
   "mimetype": "text/x-python",
   "name": "python",
   "nbconvert_exporter": "python",
   "pygments_lexer": "ipython3",
   "version": "3.8.5"
  },
  "orig_nbformat": 2
 },
 "nbformat": 4,
 "nbformat_minor": 2
}