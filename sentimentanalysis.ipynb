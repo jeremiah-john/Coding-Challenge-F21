{
 "cells": [
  {
   "cell_type": "code",
   "execution_count": 25,
   "metadata": {},
   "outputs": [
    {
     "name": "stderr",
     "output_type": "stream",
     "text": [
      "[nltk_data] Downloading package vader_lexicon to\n",
      "[nltk_data]     C:\\Users\\14699\\AppData\\Roaming\\nltk_data...\n",
      "[nltk_data]   Package vader_lexicon is already up-to-date!\n"
     ]
    },
    {
     "data": {
      "text/plain": "{'neg': 0.688, 'neu': 0.312, 'pos': 0.0, 'compound': -0.296}"
     },
     "execution_count": 25,
     "metadata": {},
     "output_type": "execute_result"
    }
   ],
   "source": [
    "import pandas\r\n",
    "import nltk\r\n",
    "from nltk.sentiment import SentimentIntensityAnalyzer\r\n",
    "nltk.download('vader_lexicon')\r\n",
    "pandas.__version__\r\n",
    "''' read data and prepare to put it into a dataframe'''\r\n",
    "data = open(\"input.txt\",\"rt\")\r\n",
    "text = data.read()\r\n",
    "sentences = text.split('.')\r\n",
    "\r\n",
    "dataframe = pandas.DataFrame(sentences)\r\n",
    "dataframe.head()\r\n",
    "\r\n",
    "'''create the sentiment analyzer using NLTK's built in VADER analyzer'''\r\n",
    "sentimentVader = SentimentIntensityAnalyzer()\r\n",
    "\r\n",
    "'''we will now loop over all the sentences in the text and get their separate polarity scores, adding them up together as we go to get our final sentiment score'''\r\n",
    "sentimentVader.polarity_scores(text)"
   ]
  }
 ],
 "metadata": {
  "kernelspec": {
   "display_name": "Python 3.8.5 64-bit ('base': conda)",
   "name": "python385jvsc74a57bd061d5e23a55309cb70608ae49be5931992f7f36ab5702d9c2cb47e9f0a503231c"
  },
  "language_info": {
   "codemirror_mode": {
    "name": "ipython",
    "version": 3
   },
   "file_extension": ".py",
   "mimetype": "text/x-python",
   "name": "python",
   "nbconvert_exporter": "python",
   "pygments_lexer": "ipython3",
   "version": "3.8.5"
  },
  "orig_nbformat": 2
 },
 "nbformat": 4,
 "nbformat_minor": 2
}