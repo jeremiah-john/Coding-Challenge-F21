{
 "cells": [
  {
   "cell_type": "code",
   "execution_count": 29,
   "metadata": {},
   "outputs": [
    {
     "name": "stdout",
     "output_type": "stream",
     "text": [
      "The overall sentiment value of this text is : \n",
      "0.9982\n",
      "this score is on a range of 1 (most positive) and -1 (most negative), and this score indicates the above text is overall: \n",
      "positive\n"
     ]
    },
    {
     "name": "stderr",
     "output_type": "stream",
     "text": [
      "[nltk_data] Downloading package vader_lexicon to\n",
      "[nltk_data]     C:\\Users\\14699\\AppData\\Roaming\\nltk_data...\n",
      "[nltk_data]   Package vader_lexicon is already up-to-date!\n"
     ]
    }
   ],
   "source": [
    "\r\n",
    "import nltk\r\n",
    "from nltk.sentiment import SentimentIntensityAnalyzer\r\n",
    "nltk.download('vader_lexicon')\r\n",
    "pandas.__version__\r\n",
    "''' read data and prepare it for reading by the NLP we have in NLTK'''\r\n",
    "data = open(\"input.txt\",\"rt\")\r\n",
    "text = data.read()\r\n",
    "\r\n",
    "'''create the sentiment analyzer using NLTK's built in VADER analyzer'''\r\n",
    "sentimentVader = SentimentIntensityAnalyzer()\r\n",
    "\r\n",
    "'''we will now calculate the sentiment values of this text'''\r\n",
    "sentimentDict = sentimentVader.polarity_scores(text)\r\n",
    "print(\"The overall sentiment value of this text is : \")\r\n",
    "print(sentimentDict[\"compound\"])\r\n",
    "print(\"this score is on a range of 1 (most positive) and -1 (most negative), and this score indicates the above text is overall: \")\r\n",
    "if sentimentDict[\"compound\"] < 0.5:\r\n",
    "    print(\"negative\")\r\n",
    "else:\r\n",
    "    print(\"positive\")"
   ]
  }
 ],
 "metadata": {
  "kernelspec": {
   "display_name": "Python 3.8.5 64-bit ('base': conda)",
   "name": "python385jvsc74a57bd061d5e23a55309cb70608ae49be5931992f7f36ab5702d9c2cb47e9f0a503231c"
  },
  "language_info": {
   "codemirror_mode": {
    "name": "ipython",
    "version": 3
   },
   "file_extension": ".py",
   "mimetype": "text/x-python",
   "name": "python",
   "nbconvert_exporter": "python",
   "pygments_lexer": "ipython3",
   "version": "3.8.5"
  },
  "orig_nbformat": 2
 },
 "nbformat": 4,
 "nbformat_minor": 2
}